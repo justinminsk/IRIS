{
  "metadata": {
    "kernelspec": {
      "display_name": "Python 3",
      "language": "python",
      "name": "python3"
    },
    "language_info": {
      "mimetype": "text/x-python",
      "name": "python",
      "nbconvert_exporter": "python",
      "pygments_lexer": "ipython3",
      "file_extension": ".py",
      "version": "3.6.1",
      "codemirror_mode": {
        "name": "ipython",
        "version": 3
      }
    }
  },
  "nbformat": 4,
  "nbformat_minor": 1,
  "cells": [
    {
      "cell_type": "code",
      "metadata": {
        "_uuid": "0881a7d9bdc30702f38a986f58062f902729ae72",
        "collapsed": true,
        "_cell_guid": "5fb9cf5e-6dd1-4cbf-b29d-8c84ac096b18"
      },
      "execution_count": null,
      "outputs": [],
      "source": [
        "import pandas as pd\n",
        "import numpy as np\n",
        "import matplotlib.pyplot as plt\n",
        "import seaborn as sns\n",
        "#import Librarys"
      ]
    },
    {
      "cell_type": "code",
      "metadata": {
        "_uuid": "8974a02c84d717a9f0c555c240db6c8fec6b1995",
        "_cell_guid": "82dfcca9-73b2-4ee1-a0ed-e6a66426b981"
      },
      "execution_count": null,
      "outputs": [],
      "source": [
        "iris = pd.read_csv('../input/Iris.csv')\n",
        "iris.head()\n",
        "#import data"
      ]
    },
    {
      "cell_type": "code",
      "metadata": {
        "_uuid": "186c81f24432b0de749cac18ba2db0de3b172275",
        "_cell_guid": "fe6fa8a5-30bb-4b20-b72f-121896c254b5"
      },
      "execution_count": null,
      "outputs": [],
      "source": [
        "iris.columns\n",
        "#see column names"
      ]
    },
    {
      "cell_type": "code",
      "metadata": {
        "_uuid": "6c7c14669c136b7059aea47caf9d0c4bc92bd414",
        "_cell_guid": "18f1366e-0bfd-41d0-9332-ea33ef953080"
      },
      "execution_count": null,
      "outputs": [],
      "source": [
        "color_dict = {'Iris-setosa':'blue', 'Iris-virginica':'red', 'Iris-versicolor':'black'}\n",
        "#create a color dictionary\n",
        "iris['Species'].value_counts() \n",
        "#count of species in the data"
      ]
    },
    {
      "cell_type": "code",
      "metadata": {
        "_uuid": "ac24c710032057454f7106c61c7890127dc46057",
        "_cell_guid": "c7cf591d-6a99-4b45-8c34-40efb50219fb"
      },
      "execution_count": null,
      "outputs": [],
      "source": [
        "iris.plot(kind = \"scatter\", x = \"SepalLengthCm\", y = \"SepalWidthCm\", c = [color_dict[i] for i in iris['Species']])\n",
        "plt.legend([color_dict])\n",
        "#plot Sepal length by Sepal width\n",
        "#blue is setosa. red versicolor, and black virginica\n",
        "iris.plot(kind = \"scatter\", x = \"PetalLengthCm\", y = \"PetalWidthCm\", c = [color_dict[i] for i in iris['Species']])\n",
        "plt.legend([color_dict])\n",
        "#plot Petal length by Petal width"
      ]
    },
    {
      "cell_type": "code",
      "metadata": {
        "_uuid": "11d9a8c158ccab5b864f9da68ac74f8695eb1051",
        "_cell_guid": "4175a37f-1cf6-4084-a0cb-6322d7098bb3"
      },
      "execution_count": null,
      "outputs": [],
      "source": [
        "iris.plot(kind = \"scatter\", x = \"SepalLengthCm\", y = \"PetalLengthCm\", c = [color_dict[i] for i in iris['Species']])\n",
        "plt.legend([color_dict])\n",
        "iris.plot(kind = \"scatter\", x = \"SepalWidthCm\", y = \"PetalWidthCm\", c = [color_dict[i] for i in iris['Species']])\n",
        "plt.legend([color_dict])\n",
        "#Comparing length of sepal and petal in the first graph and width in the second\n",
        "#blue is setosa. red versicolor, and black virginica"
      ]
    },
    {
      "cell_type": "code",
      "metadata": {
        "_uuid": "8834a54fedbf96b1ac532b6c9725e7adb4ce264b",
        "_cell_guid": "58cb67bd-5b57-48b0-a58b-e534d2e06bdb"
      },
      "execution_count": null,
      "outputs": [],
      "source": [
        "iris.groupby('Species').mean()\n",
        "#group by the species and show mean of each number column"
      ]
    },
    {
      "cell_type": "code",
      "metadata": {
        "_uuid": "d6d849d1f5e342d9beb87c0cb805c4a28aa6b308",
        "collapsed": true,
        "_cell_guid": "4bff0566-891c-4277-9102-3a0792821c01"
      },
      "execution_count": null,
      "outputs": [],
      "source": [
        "Iris_setosa = iris['Species'].map(lambda x: x.startswith('Iris-setosa'))\n",
        "Iris_versicolor = iris['Species'].map(lambda x: x.startswith('Iris-versicolor'))\n",
        "Iris_virginica = iris['Species'].map(lambda x: x.startswith('Iris-virginica'))\n",
        "#makes a boolean that finds only one species name"
      ]
    },
    {
      "cell_type": "code",
      "metadata": {
        "_uuid": "84902041ae4307480839535f77705637c3ff1b5f",
        "collapsed": true,
        "_cell_guid": "b3b42df2-6e88-493f-87de-ab4136201d76"
      },
      "execution_count": null,
      "outputs": [],
      "source": [
        "IS = iris[Iris_setosa]\n",
        "IVE = iris[Iris_versicolor]\n",
        "IVI = iris[Iris_virginica]\n",
        "#creates tables for each species"
      ]
    },
    {
      "cell_type": "code",
      "metadata": {
        "_uuid": "2887d79f2e24d73db45e739e53fdb834c9ffcbc7",
        "_cell_guid": "a6345f82-eb38-4768-a131-d0ec0e675570"
      },
      "execution_count": null,
      "outputs": [],
      "source": [
        "x = np.corrcoef(iris['PetalLengthCm'], iris['SepalLengthCm'])[0, 1]\n",
        "#pearson corralation of lengths of petals and sepal in all the data\n",
        "print('corralation of lengths of petals and sepals in all the data:',x)\n",
        "x = np.corrcoef(iris['PetalLengthCm'], iris['PetalWidthCm'])[0, 1]\n",
        "#pearson corralation of petal length and width in all the data\n",
        "print('corralation of length and width of the petals in all the data:',x)\n",
        "x = np.corrcoef(iris['PetalWidthCm'], iris['SepalWidthCm'])[0, 1]\n",
        "#pearson corralation of width of petals and sepal in all the data\n",
        "print('corralation of width of petals and sepals in all the data:',x)\n",
        "x = np.corrcoef(iris['SepalLengthCm'], iris['SepalWidthCm'])[0, 1]\n",
        "#pearson corralation of area of sepal and sepal+Petal in all the data\n",
        "print('corralation of length and width of sepals in all the data:',x)"
      ]
    },
    {
      "cell_type": "code",
      "metadata": {
        "_uuid": "4b1935f8e76334aec082094ea9182e3cac7b343d",
        "collapsed": true,
        "_cell_guid": "3337810a-3aea-47ee-b689-4ecdb9d9b024"
      },
      "execution_count": null,
      "outputs": [],
      "source": []
    }
  ]
}