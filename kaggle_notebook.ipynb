{
 "cells": [
  {
   "cell_type": "markdown",
   "metadata": {
    "_uuid": "7b19e7d1a34887d7ea8ad69c3e5bffd00aadb3ef"
   },
   "source": [
    "# Purpose\n",
    "Graph the data and do basic analyzes of the data to show that you can find a good correlation between two data points.\n",
    "We start by importing libraries and the data into the notebook."
   ]
  },
  {
   "cell_type": "code",
   "execution_count": null,
   "metadata": {
    "_cell_guid": "5fb9cf5e-6dd1-4cbf-b29d-8c84ac096b18",
    "_uuid": "0881a7d9bdc30702f38a986f58062f902729ae72",
    "collapsed": true
   },
   "outputs": [],
   "source": [
    "import pandas as pd\n",
    "import numpy as np\n",
    "import matplotlib.pyplot as plt\n",
    "import seaborn as sns\n",
    "from matplotlib.pyplot import cm\n",
    "#import Librarys"
   ]
  },
  {
   "cell_type": "code",
   "execution_count": null,
   "metadata": {
    "_cell_guid": "82dfcca9-73b2-4ee1-a0ed-e6a66426b981",
    "_uuid": "8974a02c84d717a9f0c555c240db6c8fec6b1995",
    "collapsed": true
   },
   "outputs": [],
   "source": [
    "iris = pd.read_csv('../input/Iris.csv')\n",
    "#import data"
   ]
  },
  {
   "cell_type": "markdown",
   "metadata": {
    "_uuid": "c6076805b111483a41f8377c6b06a20b2e6fd08f"
   },
   "source": [
    "## Scatter Plots\n",
    "We begin with pearson corralations and scatter plots to show trends in the data. From here on out blue dots are Iris-setosa, red are Iris-virginica, and black are Iris-versicolor."
   ]
  },
  {
   "cell_type": "code",
   "execution_count": null,
   "metadata": {
    "_cell_guid": "18f1366e-0bfd-41d0-9332-ea33ef953080",
    "_uuid": "6c7c14669c136b7059aea47caf9d0c4bc92bd414",
    "collapsed": true
   },
   "outputs": [],
   "source": [
    "color_dict = {'Iris-setosa':'blue', 'Iris-virginica':'red', 'Iris-versicolor':'black'}\n",
    "#create a color dictionary\n",
    "iris['Species'].value_counts() \n",
    "#count of species in the data"
   ]
  },
  {
   "cell_type": "code",
   "execution_count": null,
   "metadata": {
    "_cell_guid": "3337810a-3aea-47ee-b689-4ecdb9d9b024",
    "_uuid": "4b1935f8e76334aec082094ea9182e3cac7b343d",
    "collapsed": true
   },
   "outputs": [],
   "source": [
    "x = np.corrcoef(iris['PetalWidthCm'], iris['SepalWidthCm'])[0, 1]\n",
    "#pearson corralation of width of petals and sepal in all the data\n",
    "iris.plot(kind = \"scatter\", x = \"SepalWidthCm\", y = \"PetalWidthCm\", c = [color_dict[i] for i in iris['Species']])\n",
    "plt.legend([color_dict])\n",
    "#Comparing width of sepal and petal \n",
    "#blue is setosa. red versicolor, and black virginica\n",
    "print('corralation of width of petals and sepals in all the data:',x)"
   ]
  },
  {
   "cell_type": "code",
   "execution_count": null,
   "metadata": {
    "_cell_guid": "6acc8a6f-e3f6-4490-af88-d3784d98778c",
    "_uuid": "76efb713f8f507a1157d25314709af37abe5469d",
    "collapsed": true
   },
   "outputs": [],
   "source": [
    "x = np.corrcoef(iris['SepalLengthCm'], iris['SepalWidthCm'])[0, 1]\n",
    "#pearson corralation of area of sepal and sepal+Petal in all the data\n",
    "iris.plot(kind = \"scatter\", x = \"SepalLengthCm\", y = \"SepalWidthCm\", c = [color_dict[i] for i in iris['Species']])\n",
    "plt.legend([color_dict])\n",
    "#plot Sepal length by Sepal width\n",
    "#blue is setosa. red versicolor, and black virginica\n",
    "print('corralation of length and width of sepals in all the data:',x)"
   ]
  },
  {
   "cell_type": "code",
   "execution_count": null,
   "metadata": {
    "_cell_guid": "b055a226-f40c-4e92-af21-5c2f75cefaa1",
    "_uuid": "93e36fdd29915e48c5b7e8bb6a2a4362341d7e68",
    "collapsed": true
   },
   "outputs": [],
   "source": [
    "x = np.corrcoef(iris['PetalLengthCm'], iris['SepalLengthCm'])[0, 1]\n",
    "#pearson corralation of lengths of petals and sepal in all the data\n",
    "iris.plot(kind = \"scatter\", x = \"SepalLengthCm\", y = \"PetalLengthCm\", c = [color_dict[i] for i in iris['Species']])\n",
    "plt.legend([color_dict])\n",
    "#plot of lengths of petal and sepal \n",
    "print('corralation of lengths of petals and sepals in all the data:',x)"
   ]
  },
  {
   "cell_type": "code",
   "execution_count": null,
   "metadata": {
    "_cell_guid": "47542758-42be-4930-ada7-210e51efa1b4",
    "_uuid": "a2184114e6283422e0b58846a72887ecdc9cee5f",
    "collapsed": true
   },
   "outputs": [],
   "source": [
    "x = np.corrcoef(iris['PetalLengthCm'], iris['PetalWidthCm'])[0, 1]\n",
    "#pearson corralation of petal length and width in all the data\n",
    "iris.plot(kind = \"scatter\", x = \"PetalLengthCm\", y = \"PetalWidthCm\", c = [color_dict[i] for i in iris['Species']])\n",
    "plt.legend([color_dict])\n",
    "#plot Petal length by Petal width\n",
    "print('corralation of length and width of the petals in all the data:',x)"
   ]
  },
  {
   "cell_type": "markdown",
   "metadata": {
    "_uuid": "6c4099213fc0c199677bbbca4495cede9945d1a8"
   },
   "source": [
    "## Findings\n",
    "Iris petal length and width has the best corralation and the scatter plot shows that the species are bunched up in there own areas of the plot.  This could be useful to look into to figure out if you can use petal length and width to be to figure out the species on only that information. "
   ]
  },
  {
   "cell_type": "markdown",
   "metadata": {
    "_uuid": "5d578cef5f67fda7addc3e6d06c10e3bf9e935e9"
   },
   "source": [
    "## Heatmap\n",
    "Here we use a heatmap to find out where each Iris lands in petal length vs petal width."
   ]
  },
  {
   "cell_type": "code",
   "execution_count": null,
   "metadata": {
    "_cell_guid": "85b97fed-e627-4c72-957b-43c059ba51ef",
    "_uuid": "32290848d6906b47f57f0c09a2f4011bcb89ff4e",
    "collapsed": true
   },
   "outputs": [],
   "source": [
    "Iris_setosa = iris['Species'].map(lambda x: x.startswith('Iris-setosa'))\n",
    "Iris_versicolor = iris['Species'].map(lambda x: x.startswith('Iris-versicolor'))\n",
    "Iris_virginica = iris['Species'].map(lambda x: x.startswith('Iris-virginica'))\n",
    "#makes a boolean that finds only one species name\n",
    "IS = iris[Iris_setosa]\n",
    "IVE = iris[Iris_versicolor]\n",
    "IVI = iris[Iris_virginica]\n",
    "#creates tables for each species"
   ]
  },
  {
   "cell_type": "code",
   "execution_count": null,
   "metadata": {
    "_cell_guid": "cb8bc6f0-844c-4d05-b89a-cb645cbe986e",
    "_uuid": "f746ac351d11caf971a85fe0a13acde570edc3b2",
    "collapsed": true
   },
   "outputs": [],
   "source": [
    "heatmap, xedges, yedges = np.histogram2d(IS['PetalLengthCm'], IS['PetalWidthCm'])\n",
    "#set up a heatmap of Iris setosa petal length by width\n",
    "extent = [xedges[0], xedges[-1], yedges[0], yedges[-1]]\n",
    "\n",
    "plt.clf()\n",
    "plt.title('Heat Map of Petal Length and Width of Iris Setosa')\n",
    "plt.xlabel('Petal Length in CM')\n",
    "plt.ylabel('Petal Width in CM')\n",
    "plt.imshow(heatmap, extent=extent, cmap=cm.viridis)\n",
    "plt.colorbar(cmap=cm.viridis)\n",
    "plt.show()\n",
    "#the graph shows that the most common width and length is around 0.4 CM width and 1.2 CM Length\n",
    "\n",
    "heatmap, xedges, yedges = np.histogram2d(IVE['PetalLengthCm'], IVE['PetalWidthCm'])\n",
    "#set up a heatmap of Iris versicolor petal length by width\n",
    "extent = [xedges[0], xedges[-1], yedges[0], yedges[-1]]\n",
    "\n",
    "plt.clf()\n",
    "plt.title('Heat Map of Petal Length and Width of Iris Versicolor')\n",
    "plt.xlabel('Petal Length in CM')\n",
    "plt.ylabel('Petal Width in CM')\n",
    "plt.imshow(heatmap, extent=extent, cmap=cm.viridis)\n",
    "plt.colorbar(cmap=cm.viridis)\n",
    "plt.show()\n",
    "#the graph shows the most common width and length is around 1.2 CM width and 4.4 length CM\n",
    "\n",
    "heatmap, xedges, yedges = np.histogram2d(IVI['PetalLengthCm'], IVI['PetalWidthCm'])\n",
    "#set up a heatmap of Iris virginicar petal length by width\n",
    "extent = [xedges[0], xedges[-1], yedges[0], yedges[-1]]\n",
    "\n",
    "plt.clf()\n",
    "plt.title('Heat Map of Petal Length and Width of Iris Virginica')\n",
    "plt.xlabel('Petal Length in CM')\n",
    "plt.ylabel('Petal Width in CM')\n",
    "plt.imshow(heatmap, extent=extent, cmap=cm.viridis)\n",
    "plt.colorbar(cmap=cm.viridis)\n",
    "plt.show()\n",
    "#the graph shows the most common width and length is around 2.4 CM width and 5.5 CM length"
   ]
  },
  {
   "cell_type": "markdown",
   "metadata": {
    "_uuid": "3f20c5816b6e0fe94b9d1cc72e6688645c82b9cc"
   },
   "source": [
    "# Conclusion\n",
    "The data shows that the best corralation is between petal length and width and that all three iris species have there own unique range of lengths and widths. This would allow you to take an iris flowers petal length and width and be able to distinguish the species. "
   ]
  }
 ],
 "metadata": {
  "kernelspec": {
   "display_name": "Python 3",
   "language": "python",
   "name": "python3"
  },
  "language_info": {
   "codemirror_mode": {
    "name": "ipython",
    "version": 3
   },
   "file_extension": ".py",
   "mimetype": "text/x-python",
   "name": "python",
   "nbconvert_exporter": "python",
   "pygments_lexer": "ipython3",
   "version": "3.6.1"
  }
 },
 "nbformat": 4,
 "nbformat_minor": 1
}
