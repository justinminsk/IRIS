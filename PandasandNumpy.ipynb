{
  "metadata": {
    "language_info": {
      "codemirror_mode": {
        "version": 3,
        "name": "ipython"
      },
      "nbconvert_exporter": "python",
      "file_extension": ".py",
      "version": "3.6.1",
      "name": "python",
      "pygments_lexer": "ipython3",
      "mimetype": "text/x-python"
    },
    "kernelspec": {
      "display_name": "Python 3",
      "language": "python",
      "name": "python3"
    }
  },
  "nbformat_minor": 1,
  "cells": [
    {
      "metadata": {
        "_uuid": "b99857c11bbb2ad07870c2f6241c613a741e13f7",
        "_cell_guid": "83ce6f95-e9a6-49b2-807f-34bf2e27d746"
      },
      "outputs": [],
      "cell_type": "code",
      "source": [
        "import pandas as pd\n",
        "import numpy as np\n",
        "#import the libraries"
      ],
      "execution_count": 2
    },
    {
      "metadata": {
        "_uuid": "e69f7a2ef92cce6d025262a0dca2798ec0747dd9"
      },
      "outputs": [],
      "cell_type": "code",
      "source": [
        "iris = pd.read_csv('../input/Iris.csv')\n",
        "#create a array variable named iris\n",
        "iris.head()\n",
        "#display the table"
      ],
      "execution_count": 3
    },
    {
      "metadata": {
        "_uuid": "1e084d849db7f521e28b489b2ebc62427cfd7934"
      },
      "outputs": [],
      "cell_type": "code",
      "source": [
        "iris.columns\n",
        "#shows the column titles"
      ],
      "execution_count": 5
    },
    {
      "metadata": {
        "_uuid": "2a616e2a6a1012cb56b023e6ed17447bbd445f8a"
      },
      "outputs": [],
      "cell_type": "code",
      "source": [
        "iris.describe()\n",
        "#gives you basic stats of each column"
      ],
      "execution_count": 16
    },
    {
      "metadata": {
        "_uuid": "b620a77cb5ab3edb7186902f565e9189e51f0159"
      },
      "outputs": [],
      "cell_type": "code",
      "source": [
        "count_speices = pd.value_counts(iris['Species'], sort = True).sort_index()\n",
        "#counts each unique instance, in this case Iris-setosa, Iris-versicolor, and Iris-virginica \n",
        "#can also just use iris['Species'].value_counts(), but the extra code will help with messy code\n",
        "count_speices\n",
        "#call the varible to print the count"
      ],
      "execution_count": 6
    },
    {
      "metadata": {
        "collapsed": true,
        "_uuid": "9412b2ebb1363dc6b69a258b3d4b137d7a2a2a77"
      },
      "outputs": [],
      "cell_type": "code",
      "source": [
        "Sepal = iris['SepalLengthCm'] * iris['SepalWidthCm']\n",
        "Petal = iris['PetalLengthCm'] * iris['PetalWidthCm']\n",
        "#create varibles for the area of the petal and sepal, this is not that useful since we are missing height\n",
        "#however I am using these to show how to concat using panadas"
      ],
      "execution_count": 7
    },
    {
      "metadata": {
        "_uuid": "976a27c9fcc1c480f0f37d6a3f27e8304962b38d"
      },
      "outputs": [],
      "cell_type": "code",
      "source": [
        "s1 = pd.Series(Sepal, name = 'Sepal')\n",
        "#adding this extra line to give the column a title \n",
        "s2 = pd.Series(Petal, name = 'Petal')\n",
        "#adding this extra line to give the column a title \n",
        "iris_2 = pd.concat([iris, s1, s2], axis=1)\n",
        "#add our two new varibles to the existing data\n",
        "iris_2.columns\n",
        "#double check it added"
      ],
      "execution_count": 8
    },
    {
      "metadata": {
        "_uuid": "939aad22ff32a3764b52ceb988f034d6308f7595"
      },
      "outputs": [],
      "cell_type": "code",
      "source": [
        "iris.groupby('Species').mean()\n",
        "#group by the species and show mean of each column, if you had a second column of strings \n",
        "#then it would not display, however if we had two strings you could breakdown the data by both Strings with \n",
        "#iris.groupby(['Species', 'String']).mean()\n",
        "#you can also use many of the other numpy functions like .max(), .min(), .sum(), etc"
      ],
      "execution_count": 17
    },
    {
      "metadata": {
        "_uuid": "8c06e62b262b5b891cc5b09e98012eb63c7f9373"
      },
      "outputs": [],
      "cell_type": "code",
      "source": [
        "Iris_setosa = iris_2['Species'].map(lambda x: x.startswith('Iris-setosa'))\n",
        "Iris_versicolor = iris_2['Species'].map(lambda x: x.startswith('Iris-versicolor'))\n",
        "Iris_virginica = iris_2['Species'].map(lambda x: x.startswith('Iris-virginica'))\n",
        "#makes a boolean that finds only one species name, here I create boolean arrays that are true when only \n",
        "#one iris species is in the species column for example:\n",
        "Iris_setosa\n",
        "#which shows you the array and each true is a row with Iris-setosa, false would be either Iris-versicolor \n",
        "#or Iris-virginica"
      ],
      "execution_count": 11
    },
    {
      "metadata": {
        "_uuid": "a76a6a9850933d2937e985b87cefed9472c05551"
      },
      "outputs": [],
      "cell_type": "code",
      "source": [
        "IS = iris_2[Iris_setosa]\n",
        "IVE = iris_2[Iris_versicolor]\n",
        "IVI = iris_2[Iris_virginica]\n",
        "#creates tables for each species for example \n",
        "IS\n",
        "#this shows all 50 entires of Iris-setosa"
      ],
      "execution_count": 12
    },
    {
      "metadata": {
        "_uuid": "1cc1f36b6baf3df780eb09d3a4279940c7a334f8"
      },
      "outputs": [],
      "cell_type": "code",
      "source": [
        "np.corrcoef(iris_2['PetalLengthCm'], iris_2['PetalWidthCm'])[0, 1]\n",
        "#Pearson corralation of lengths of petals VS widths of petals in all of our data"
      ],
      "execution_count": 15
    },
    {
      "metadata": {
        "collapsed": true,
        "_uuid": "352577cc16eb601993923d588f0914eb2d144a79"
      },
      "outputs": [],
      "cell_type": "code",
      "source": [],
      "execution_count": null
    }
  ],
  "nbformat": 4
}