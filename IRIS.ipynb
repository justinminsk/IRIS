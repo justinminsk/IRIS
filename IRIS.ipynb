{
 "cells": [
  {
   "cell_type": "code",
   "execution_count": 1,
   "metadata": {
    "_cell_guid": "5fb9cf5e-6dd1-4cbf-b29d-8c84ac096b18",
    "_uuid": "0881a7d9bdc30702f38a986f58062f902729ae72",
    "collapsed": true
   },
   "outputs": [],
   "source": [
    "import pandas as pd\n",
    "import numpy as np\n",
    "import matplotlib.pyplot as plt\n",
    "import seaborn as sns\n",
    "import pygal\n",
    "#import Librarys"
   ]
  },
  {
   "cell_type": "code",
   "execution_count": 2,
   "metadata": {
    "_cell_guid": "82dfcca9-73b2-4ee1-a0ed-e6a66426b981",
    "_uuid": "8974a02c84d717a9f0c555c240db6c8fec6b1995"
   },
   "outputs": [
    {
     "data": {
      "text/html": [
       "<div>\n",
       "<style>\n",
       "    .dataframe thead tr:only-child th {\n",
       "        text-align: right;\n",
       "    }\n",
       "\n",
       "    .dataframe thead th {\n",
       "        text-align: left;\n",
       "    }\n",
       "\n",
       "    .dataframe tbody tr th {\n",
       "        vertical-align: top;\n",
       "    }\n",
       "</style>\n",
       "<table border=\"1\" class=\"dataframe\">\n",
       "  <thead>\n",
       "    <tr style=\"text-align: right;\">\n",
       "      <th></th>\n",
       "      <th>Id</th>\n",
       "      <th>SepalLengthCm</th>\n",
       "      <th>SepalWidthCm</th>\n",
       "      <th>PetalLengthCm</th>\n",
       "      <th>PetalWidthCm</th>\n",
       "      <th>Species</th>\n",
       "    </tr>\n",
       "  </thead>\n",
       "  <tbody>\n",
       "    <tr>\n",
       "      <th>0</th>\n",
       "      <td>1</td>\n",
       "      <td>5.1</td>\n",
       "      <td>3.5</td>\n",
       "      <td>1.4</td>\n",
       "      <td>0.2</td>\n",
       "      <td>Iris-setosa</td>\n",
       "    </tr>\n",
       "    <tr>\n",
       "      <th>1</th>\n",
       "      <td>2</td>\n",
       "      <td>4.9</td>\n",
       "      <td>3.0</td>\n",
       "      <td>1.4</td>\n",
       "      <td>0.2</td>\n",
       "      <td>Iris-setosa</td>\n",
       "    </tr>\n",
       "    <tr>\n",
       "      <th>2</th>\n",
       "      <td>3</td>\n",
       "      <td>4.7</td>\n",
       "      <td>3.2</td>\n",
       "      <td>1.3</td>\n",
       "      <td>0.2</td>\n",
       "      <td>Iris-setosa</td>\n",
       "    </tr>\n",
       "    <tr>\n",
       "      <th>3</th>\n",
       "      <td>4</td>\n",
       "      <td>4.6</td>\n",
       "      <td>3.1</td>\n",
       "      <td>1.5</td>\n",
       "      <td>0.2</td>\n",
       "      <td>Iris-setosa</td>\n",
       "    </tr>\n",
       "    <tr>\n",
       "      <th>4</th>\n",
       "      <td>5</td>\n",
       "      <td>5.0</td>\n",
       "      <td>3.6</td>\n",
       "      <td>1.4</td>\n",
       "      <td>0.2</td>\n",
       "      <td>Iris-setosa</td>\n",
       "    </tr>\n",
       "  </tbody>\n",
       "</table>\n",
       "</div>"
      ],
      "text/plain": [
       "   Id  SepalLengthCm  SepalWidthCm  PetalLengthCm  PetalWidthCm      Species\n",
       "0   1            5.1           3.5            1.4           0.2  Iris-setosa\n",
       "1   2            4.9           3.0            1.4           0.2  Iris-setosa\n",
       "2   3            4.7           3.2            1.3           0.2  Iris-setosa\n",
       "3   4            4.6           3.1            1.5           0.2  Iris-setosa\n",
       "4   5            5.0           3.6            1.4           0.2  Iris-setosa"
      ]
     },
     "execution_count": 2,
     "metadata": {},
     "output_type": "execute_result"
    }
   ],
   "source": [
    "iris = pd.read_csv('Iris.csv')\n",
    "iris.head()\n",
    "#import data"
   ]
  },
  {
   "cell_type": "code",
   "execution_count": 3,
   "metadata": {
    "_cell_guid": "fe6fa8a5-30bb-4b20-b72f-121896c254b5",
    "_uuid": "186c81f24432b0de749cac18ba2db0de3b172275"
   },
   "outputs": [
    {
     "data": {
      "text/plain": [
       "Index(['Id', 'SepalLengthCm', 'SepalWidthCm', 'PetalLengthCm', 'PetalWidthCm',\n",
       "       'Species'],\n",
       "      dtype='object')"
      ]
     },
     "execution_count": 3,
     "metadata": {},
     "output_type": "execute_result"
    }
   ],
   "source": [
    "iris.columns\n",
    "#see column names"
   ]
  },
  {
   "cell_type": "code",
   "execution_count": 4,
   "metadata": {
    "collapsed": true
   },
   "outputs": [],
   "source": [
    "count_speices = pd.value_counts(iris['Species'], sort = True).sort_index()"
   ]
  },
  {
   "cell_type": "code",
   "execution_count": 5,
   "metadata": {
    "collapsed": true
   },
   "outputs": [],
   "source": [
    "bar = pygal.Bar()\n",
    "bar.title = 'Iris count'\n",
    "bar.x_labels = map (str,('Iris-setosa', 'Iris-versicolor', 'Iris-virginica'))\n",
    "bar.add('Name', count_speices)\n",
    "bar.render_to_file('bar_chart.svg')\n",
    "#bar graph comparing the speices"
   ]
  },
  {
   "cell_type": "code",
   "execution_count": 6,
   "metadata": {},
   "outputs": [
    {
     "data": {
      "text/plain": [
       "'%matplotlib inline\\nfrom IPython.display import SVG, HTML\\nHTML(html_pygal.format(pygal_render=bar_chart.render()))\\n'"
      ]
     },
     "execution_count": 6,
     "metadata": {},
     "output_type": "execute_result"
    }
   ],
   "source": [
    "\"\"\"%matplotlib inline\n",
    "from IPython.display import SVG, HTML\n",
    "HTML(html_pygal.format(pygal_render=bar_chart.render()))\n",
    "\"\"\""
   ]
  },
  {
   "cell_type": "code",
   "execution_count": 7,
   "metadata": {
    "_cell_guid": "18f1366e-0bfd-41d0-9332-ea33ef953080",
    "_uuid": "6c7c14669c136b7059aea47caf9d0c4bc92bd414"
   },
   "outputs": [
    {
     "data": {
      "text/plain": [
       "Iris-versicolor    50\n",
       "Iris-setosa        50\n",
       "Iris-virginica     50\n",
       "Name: Species, dtype: int64"
      ]
     },
     "execution_count": 7,
     "metadata": {},
     "output_type": "execute_result"
    }
   ],
   "source": [
    "color_dict = {'Iris-setosa':'blue', 'Iris-virginica':'red', 'Iris-versicolor':'black'}\n",
    "#create a color dictionary\n",
    "iris['Species'].value_counts() \n",
    "#count of species in the data"
   ]
  },
  {
   "cell_type": "code",
   "execution_count": 8,
   "metadata": {
    "_cell_guid": "c7cf591d-6a99-4b45-8c34-40efb50219fb",
    "_uuid": "ac24c710032057454f7106c61c7890127dc46057"
   },
   "outputs": [
    {
     "data": {
      "text/plain": [
       "<matplotlib.legend.Legend at 0x247e28bbba8>"
      ]
     },
     "execution_count": 8,
     "metadata": {},
     "output_type": "execute_result"
    }
   ],
   "source": [
    "iris.plot(kind = \"scatter\", x = \"SepalLengthCm\", y = \"SepalWidthCm\", c = [color_dict[i] for i in iris['Species']])\n",
    "plt.legend([color_dict])\n",
    "#plot Sepal length by Sepal width\n",
    "#blue is setosa. red versicolor, and black virginica\n",
    "iris.plot(kind = \"scatter\", x = \"PetalLengthCm\", y = \"PetalWidthCm\", c = [color_dict[i] for i in iris['Species']])\n",
    "plt.legend([color_dict])\n",
    "#plot Petal length by Petal width"
   ]
  },
  {
   "cell_type": "code",
   "execution_count": 9,
   "metadata": {
    "_cell_guid": "4175a37f-1cf6-4084-a0cb-6322d7098bb3",
    "_uuid": "11d9a8c158ccab5b864f9da68ac74f8695eb1051"
   },
   "outputs": [
    {
     "data": {
      "text/plain": [
       "<matplotlib.legend.Legend at 0x247e2a0cbe0>"
      ]
     },
     "execution_count": 9,
     "metadata": {},
     "output_type": "execute_result"
    }
   ],
   "source": [
    "iris.plot(kind = \"scatter\", x = \"SepalLengthCm\", y = \"PetalLengthCm\", c = [color_dict[i] for i in iris['Species']])\n",
    "plt.legend([color_dict])\n",
    "iris.plot(kind = \"scatter\", x = \"SepalWidthCm\", y = \"PetalWidthCm\", c = [color_dict[i] for i in iris['Species']])\n",
    "plt.legend([color_dict])\n",
    "#Comparing length of sepal and petal in the first graph and width in the second\n",
    "#blue is setosa. red versicolor, and black virginica"
   ]
  },
  {
   "cell_type": "code",
   "execution_count": 10,
   "metadata": {
    "_cell_guid": "58cb67bd-5b57-48b0-a58b-e534d2e06bdb",
    "_uuid": "8834a54fedbf96b1ac532b6c9725e7adb4ce264b"
   },
   "outputs": [
    {
     "data": {
      "text/html": [
       "<div>\n",
       "<style>\n",
       "    .dataframe thead tr:only-child th {\n",
       "        text-align: right;\n",
       "    }\n",
       "\n",
       "    .dataframe thead th {\n",
       "        text-align: left;\n",
       "    }\n",
       "\n",
       "    .dataframe tbody tr th {\n",
       "        vertical-align: top;\n",
       "    }\n",
       "</style>\n",
       "<table border=\"1\" class=\"dataframe\">\n",
       "  <thead>\n",
       "    <tr style=\"text-align: right;\">\n",
       "      <th></th>\n",
       "      <th>Id</th>\n",
       "      <th>SepalLengthCm</th>\n",
       "      <th>SepalWidthCm</th>\n",
       "      <th>PetalLengthCm</th>\n",
       "      <th>PetalWidthCm</th>\n",
       "    </tr>\n",
       "    <tr>\n",
       "      <th>Species</th>\n",
       "      <th></th>\n",
       "      <th></th>\n",
       "      <th></th>\n",
       "      <th></th>\n",
       "      <th></th>\n",
       "    </tr>\n",
       "  </thead>\n",
       "  <tbody>\n",
       "    <tr>\n",
       "      <th>Iris-setosa</th>\n",
       "      <td>25.5</td>\n",
       "      <td>5.006</td>\n",
       "      <td>3.418</td>\n",
       "      <td>1.464</td>\n",
       "      <td>0.244</td>\n",
       "    </tr>\n",
       "    <tr>\n",
       "      <th>Iris-versicolor</th>\n",
       "      <td>75.5</td>\n",
       "      <td>5.936</td>\n",
       "      <td>2.770</td>\n",
       "      <td>4.260</td>\n",
       "      <td>1.326</td>\n",
       "    </tr>\n",
       "    <tr>\n",
       "      <th>Iris-virginica</th>\n",
       "      <td>125.5</td>\n",
       "      <td>6.588</td>\n",
       "      <td>2.974</td>\n",
       "      <td>5.552</td>\n",
       "      <td>2.026</td>\n",
       "    </tr>\n",
       "  </tbody>\n",
       "</table>\n",
       "</div>"
      ],
      "text/plain": [
       "                    Id  SepalLengthCm  SepalWidthCm  PetalLengthCm  \\\n",
       "Species                                                              \n",
       "Iris-setosa       25.5          5.006         3.418          1.464   \n",
       "Iris-versicolor   75.5          5.936         2.770          4.260   \n",
       "Iris-virginica   125.5          6.588         2.974          5.552   \n",
       "\n",
       "                 PetalWidthCm  \n",
       "Species                        \n",
       "Iris-setosa             0.244  \n",
       "Iris-versicolor         1.326  \n",
       "Iris-virginica          2.026  "
      ]
     },
     "execution_count": 10,
     "metadata": {},
     "output_type": "execute_result"
    }
   ],
   "source": [
    "iris.groupby('Species').mean()\n",
    "#group by the species and show mean of each number column"
   ]
  },
  {
   "cell_type": "code",
   "execution_count": 11,
   "metadata": {
    "_cell_guid": "4bff0566-891c-4277-9102-3a0792821c01",
    "_uuid": "d6d849d1f5e342d9beb87c0cb805c4a28aa6b308",
    "collapsed": true
   },
   "outputs": [],
   "source": [
    "Iris_setosa = iris['Species'].map(lambda x: x.startswith('Iris-setosa'))\n",
    "Iris_versicolor = iris['Species'].map(lambda x: x.startswith('Iris-versicolor'))\n",
    "Iris_virginica = iris['Species'].map(lambda x: x.startswith('Iris-virginica'))\n",
    "#makes a boolean that finds only one species name"
   ]
  },
  {
   "cell_type": "code",
   "execution_count": 12,
   "metadata": {
    "_cell_guid": "b3b42df2-6e88-493f-87de-ab4136201d76",
    "_uuid": "84902041ae4307480839535f77705637c3ff1b5f",
    "collapsed": true
   },
   "outputs": [],
   "source": [
    "IS = iris[Iris_setosa]\n",
    "IVE = iris[Iris_versicolor]\n",
    "IVI = iris[Iris_virginica]\n",
    "#creates tables for each species"
   ]
  },
  {
   "cell_type": "code",
   "execution_count": 13,
   "metadata": {
    "_cell_guid": "a6345f82-eb38-4768-a131-d0ec0e675570",
    "_uuid": "2887d79f2e24d73db45e739e53fdb834c9ffcbc7"
   },
   "outputs": [
    {
     "name": "stdout",
     "output_type": "stream",
     "text": [
      "corralation of lengths of petals and sepals in all the data: 0.871754157305\n",
      "corralation of length and width of the petals in all the data: 0.962757097051\n",
      "corralation of width of petals and sepals in all the data: -0.356544089614\n",
      "corralation of length and width of sepals in all the data: -0.109369249951\n"
     ]
    }
   ],
   "source": [
    "x = np.corrcoef(iris['PetalLengthCm'], iris['SepalLengthCm'])[0, 1]\n",
    "#pearson corralation of lengths of petals and sepal in all the data\n",
    "print('corralation of lengths of petals and sepals in all the data:',x)\n",
    "x = np.corrcoef(iris['PetalLengthCm'], iris['PetalWidthCm'])[0, 1]\n",
    "#pearson corralation of petal length and width in all the data\n",
    "print('corralation of length and width of the petals in all the data:',x)\n",
    "x = np.corrcoef(iris['PetalWidthCm'], iris['SepalWidthCm'])[0, 1]\n",
    "#pearson corralation of width of petals and sepal in all the data\n",
    "print('corralation of width of petals and sepals in all the data:',x)\n",
    "x = np.corrcoef(iris['SepalLengthCm'], iris['SepalWidthCm'])[0, 1]\n",
    "#pearson corralation of area of sepal and sepal+Petal in all the data\n",
    "print('corralation of length and width of sepals in all the data:',x)"
   ]
  },
  {
   "cell_type": "code",
   "execution_count": null,
   "metadata": {
    "_cell_guid": "3337810a-3aea-47ee-b689-4ecdb9d9b024",
    "_uuid": "4b1935f8e76334aec082094ea9182e3cac7b343d",
    "collapsed": true
   },
   "outputs": [],
   "source": []
  },
  {
   "cell_type": "code",
   "execution_count": null,
   "metadata": {
    "collapsed": true
   },
   "outputs": [],
   "source": []
  }
 ],
 "metadata": {
  "kernelspec": {
   "display_name": "Python 3",
   "language": "python",
   "name": "python3"
  },
  "language_info": {
   "codemirror_mode": {
    "name": "ipython",
    "version": 3
   },
   "file_extension": ".py",
   "mimetype": "text/x-python",
   "name": "python",
   "nbconvert_exporter": "python",
   "pygments_lexer": "ipython3",
   "version": "3.6.1"
  }
 },
 "nbformat": 4,
 "nbformat_minor": 1
}
